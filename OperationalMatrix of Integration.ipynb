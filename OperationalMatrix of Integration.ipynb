{
 "cells": [
  {
   "cell_type": "code",
   "execution_count": 66,
   "metadata": {},
   "outputs": [],
   "source": [
    "from sympy import *\n",
    "init_printing()\n",
    "% matplotlib inline\n",
    "t = symbols(\"t\")\n",
    "N = 7"
   ]
  },
  {
   "cell_type": "markdown",
   "metadata": {},
   "source": [
    "Define the $L^2$ inner product\n",
    "$$\\langle u,v \\rangle = \\int_0^1 u(t) v(t) dt$$"
   ]
  },
  {
   "cell_type": "code",
   "execution_count": 67,
   "metadata": {},
   "outputs": [],
   "source": [
    "def inner(u,v): return integrate(u*v, (t,0,1))"
   ]
  },
  {
   "cell_type": "markdown",
   "metadata": {},
   "source": [
    "Define the Volterra operator $V:H^k \\to H^{k+1}$ by\n",
    "$$V(u) = \\int_0^t u(s) ds$$"
   ]
  },
  {
   "cell_type": "code",
   "execution_count": 68,
   "metadata": {},
   "outputs": [],
   "source": [
    "def V(u,m=1): \n",
    "    v = u\n",
    "    for u in range(m):\n",
    "        v = integrate(v, (t,0,t))\n",
    "    return v"
   ]
  },
  {
   "cell_type": "markdown",
   "metadata": {},
   "source": [
    "Define the shifted Legendre polynomials $\\{P_n(t)\\}$ by\n",
    "$$P_n(t) = \\frac{d}{dt} \\frac{t^n(t-1)^n}{n!}, \\quad n \\geq 0$$"
   ]
  },
  {
   "cell_type": "code",
   "execution_count": 69,
   "metadata": {},
   "outputs": [],
   "source": [
    "def legendre(n): return diff(t**n * (t-1)**n / factorial(n), t, n).factor()"
   ]
  },
  {
   "cell_type": "code",
   "execution_count": 71,
   "metadata": {},
   "outputs": [
    {
     "data": {
      "text/latex": [
       "$$\\left[\\begin{matrix}1\\\\\\sqrt{3} \\left(2 t - 1\\right)\\\\\\sqrt{5} \\left(6 t^{2} - 6 t + 1\\right)\\\\\\sqrt{7} \\left(2 t - 1\\right) \\left(10 t^{2} - 10 t + 1\\right)\\\\210 t^{4} - 420 t^{3} + 270 t^{2} - 60 t + 3\\\\\\sqrt{11} \\left(2 t - 1\\right) \\left(126 t^{4} - 252 t^{3} + 154 t^{2} - 28 t + 1\\right)\\\\\\sqrt{13} \\left(924 t^{6} - 2772 t^{5} + 3150 t^{4} - 1680 t^{3} + 420 t^{2} - 42 t + 1\\right)\\end{matrix}\\right]$$"
      ],
      "text/plain": [
       "⎡                              1                               ⎤\n",
       "⎢                                                              ⎥\n",
       "⎢                         √3⋅(2⋅t - 1)                         ⎥\n",
       "⎢                                                              ⎥\n",
       "⎢                        ⎛   2          ⎞                      ⎥\n",
       "⎢                     √5⋅⎝6⋅t  - 6⋅t + 1⎠                      ⎥\n",
       "⎢                                                              ⎥\n",
       "⎢                            ⎛    2           ⎞                ⎥\n",
       "⎢               √7⋅(2⋅t - 1)⋅⎝10⋅t  - 10⋅t + 1⎠                ⎥\n",
       "⎢                                                              ⎥\n",
       "⎢                  4        3        2                         ⎥\n",
       "⎢             210⋅t  - 420⋅t  + 270⋅t  - 60⋅t + 3              ⎥\n",
       "⎢                                                              ⎥\n",
       "⎢                   ⎛     4        3        2           ⎞      ⎥\n",
       "⎢     √11⋅(2⋅t - 1)⋅⎝126⋅t  - 252⋅t  + 154⋅t  - 28⋅t + 1⎠      ⎥\n",
       "⎢                                                              ⎥\n",
       "⎢    ⎛     6         5         4         3        2           ⎞⎥\n",
       "⎣√13⋅⎝924⋅t  - 2772⋅t  + 3150⋅t  - 1680⋅t  + 420⋅t  - 42⋅t + 1⎠⎦"
      ]
     },
     "execution_count": 71,
     "metadata": {},
     "output_type": "execute_result"
    }
   ],
   "source": [
    "P = [legendre(n) for n in range(N)];\n",
    "P = [p / sqrt(inner(p,p)) for p in P]; # normalize them\n",
    "Matrix(P)"
   ]
  },
  {
   "cell_type": "markdown",
   "metadata": {},
   "source": [
    "Define the Legendre Operational matrix of integration:\n",
    "$$V_1 = \\left[\\langle P_m, V P_n\\rangle\\right] = - V_1^T$$"
   ]
  },
  {
   "cell_type": "code",
   "execution_count": 72,
   "metadata": {},
   "outputs": [
    {
     "data": {
      "text/latex": [
       "$$\\left[\\begin{matrix}\\frac{1}{2} & \\frac{\\sqrt{3}}{6} & 0 & 0 & 0 & 0 & 0\\\\- \\frac{\\sqrt{3}}{6} & 0 & \\frac{\\sqrt{15}}{30} & 0 & 0 & 0 & 0\\\\0 & - \\frac{\\sqrt{15}}{30} & 0 & \\frac{\\sqrt{35}}{70} & 0 & 0 & 0\\\\0 & 0 & - \\frac{\\sqrt{35}}{70} & 0 & \\frac{\\sqrt{7}}{42} & 0 & 0\\\\0 & 0 & 0 & - \\frac{\\sqrt{7}}{42} & 0 & \\frac{\\sqrt{11}}{66} & 0\\\\0 & 0 & 0 & 0 & - \\frac{\\sqrt{11}}{66} & 0 & \\frac{\\sqrt{143}}{286}\\\\0 & 0 & 0 & 0 & 0 & - \\frac{\\sqrt{143}}{286} & 0\\end{matrix}\\right]$$"
      ],
      "text/plain": [
       "⎡       √3                                    ⎤\n",
       "⎢1/2    ──      0     0      0      0      0  ⎥\n",
       "⎢       6                                     ⎥\n",
       "⎢                                             ⎥\n",
       "⎢-√3           √15                            ⎥\n",
       "⎢────    0     ───    0      0      0      0  ⎥\n",
       "⎢ 6             30                            ⎥\n",
       "⎢                                             ⎥\n",
       "⎢      -√15          √35                      ⎥\n",
       "⎢ 0    ─────    0    ───     0      0      0  ⎥\n",
       "⎢        30           70                      ⎥\n",
       "⎢                                             ⎥\n",
       "⎢             -√35          √7                ⎥\n",
       "⎢ 0      0    ─────   0     ──      0      0  ⎥\n",
       "⎢               70          42                ⎥\n",
       "⎢                                             ⎥\n",
       "⎢                    -√7           √11        ⎥\n",
       "⎢ 0      0      0    ────    0     ───     0  ⎥\n",
       "⎢                     42            66        ⎥\n",
       "⎢                                             ⎥\n",
       "⎢                          -√11           √143⎥\n",
       "⎢ 0      0      0     0    ─────    0     ────⎥\n",
       "⎢                            66           286 ⎥\n",
       "⎢                                             ⎥\n",
       "⎢                                 -√143       ⎥\n",
       "⎢ 0      0      0     0      0    ──────   0  ⎥\n",
       "⎣                                  286        ⎦"
      ]
     },
     "execution_count": 72,
     "metadata": {},
     "output_type": "execute_result"
    }
   ],
   "source": [
    "V1 = Matrix([[inner(V(pm), pn) for pn in P] for pm in P])\n",
    "V1"
   ]
  },
  {
   "cell_type": "markdown",
   "metadata": {},
   "source": [
    "and its higher order matrices"
   ]
  },
  {
   "cell_type": "code",
   "execution_count": 73,
   "metadata": {},
   "outputs": [
    {
     "data": {
      "text/latex": [
       "$$\\left[\\begin{matrix}\\frac{1}{6} & \\frac{\\sqrt{3}}{12} & \\frac{\\sqrt{5}}{60} & 0 & 0 & 0 & 0\\\\- \\frac{\\sqrt{3}}{12} & - \\frac{1}{10} & 0 & \\frac{\\sqrt{21}}{420} & 0 & 0 & 0\\\\\\frac{\\sqrt{5}}{60} & 0 & - \\frac{1}{42} & 0 & \\frac{\\sqrt{5}}{420} & 0 & 0\\\\0 & \\frac{\\sqrt{21}}{420} & 0 & - \\frac{1}{90} & 0 & \\frac{\\sqrt{77}}{2772} & 0\\\\0 & 0 & \\frac{\\sqrt{5}}{420} & 0 & - \\frac{1}{154} & 0 & \\frac{\\sqrt{13}}{1716}\\\\0 & 0 & 0 & \\frac{\\sqrt{77}}{2772} & 0 & - \\frac{1}{234} & 0\\\\0 & 0 & 0 & 0 & \\frac{\\sqrt{13}}{1716} & 0 & - \\frac{1}{330}\\end{matrix}\\right]$$"
      ],
      "text/plain": [
       "⎡       √3     √5                                 ⎤\n",
       "⎢1/6    ──     ──      0      0       0       0   ⎥\n",
       "⎢       12     60                                 ⎥\n",
       "⎢                                                 ⎥\n",
       "⎢-√3                  √21                         ⎥\n",
       "⎢────  -1/10    0     ───     0       0       0   ⎥\n",
       "⎢ 12                  420                         ⎥\n",
       "⎢                                                 ⎥\n",
       "⎢ √5                          √5                  ⎥\n",
       "⎢ ──     0    -1/42    0     ───      0       0   ⎥\n",
       "⎢ 60                         420                  ⎥\n",
       "⎢                                                 ⎥\n",
       "⎢       √21                          √77          ⎥\n",
       "⎢ 0     ───     0    -1/90    0      ────     0   ⎥\n",
       "⎢       420                          2772         ⎥\n",
       "⎢                                                 ⎥\n",
       "⎢               √5                           √13  ⎥\n",
       "⎢ 0      0     ───     0    -1/154    0      ──── ⎥\n",
       "⎢              420                           1716 ⎥\n",
       "⎢                                                 ⎥\n",
       "⎢                    √77                          ⎥\n",
       "⎢ 0      0      0    ────     0     -1/234    0   ⎥\n",
       "⎢                    2772                         ⎥\n",
       "⎢                                                 ⎥\n",
       "⎢                            √13                  ⎥\n",
       "⎢ 0      0      0      0     ────     0     -1/330⎥\n",
       "⎣                            1716                 ⎦"
      ]
     },
     "execution_count": 73,
     "metadata": {},
     "output_type": "execute_result"
    }
   ],
   "source": [
    "V2 = Matrix([[inner(V(pm,2), pn) for pn in P] for pm in P])\n",
    "V2"
   ]
  },
  {
   "cell_type": "code",
   "execution_count": 74,
   "metadata": {},
   "outputs": [
    {
     "data": {
      "text/latex": [
       "$$\\left[\\begin{matrix}\\frac{1}{24} & \\frac{\\sqrt{3}}{40} & \\frac{\\sqrt{5}}{120} & \\frac{\\sqrt{7}}{840} & 0 & 0 & 0\\\\- \\frac{\\sqrt{3}}{40} & - \\frac{1}{24} & - \\frac{\\sqrt{15}}{280} & 0 & \\frac{\\sqrt{3}}{2520} & 0 & 0\\\\\\frac{\\sqrt{5}}{120} & \\frac{\\sqrt{15}}{280} & 0 & - \\frac{\\sqrt{35}}{2520} & 0 & \\frac{\\sqrt{55}}{27720} & 0\\\\- \\frac{\\sqrt{7}}{840} & 0 & \\frac{\\sqrt{35}}{2520} & 0 & - \\frac{\\sqrt{7}}{3080} & 0 & \\frac{\\sqrt{91}}{72072}\\\\0 & - \\frac{\\sqrt{3}}{2520} & 0 & \\frac{\\sqrt{7}}{3080} & 0 & - \\frac{\\sqrt{11}}{8008} & 0\\\\0 & 0 & - \\frac{\\sqrt{55}}{27720} & 0 & \\frac{\\sqrt{11}}{8008} & 0 & - \\frac{\\sqrt{143}}{51480}\\\\0 & 0 & 0 & - \\frac{\\sqrt{91}}{72072} & 0 & \\frac{\\sqrt{143}}{51480} & 0\\end{matrix}\\right]$$"
      ],
      "text/plain": [
       "⎡       √3      √5     √7                      ⎤\n",
       "⎢1/24   ──     ───    ───    0      0      0   ⎥\n",
       "⎢       40     120    840                      ⎥\n",
       "⎢                                              ⎥\n",
       "⎢-√3          -√15           √3                ⎥\n",
       "⎢────  -1/24  ─────    0    ────    0      0   ⎥\n",
       "⎢ 40           280          2520               ⎥\n",
       "⎢                                              ⎥\n",
       "⎢ √5    √15          -√35          √55         ⎥\n",
       "⎢───    ───     0    ─────   0    ─────    0   ⎥\n",
       "⎢120    280           2520        27720        ⎥\n",
       "⎢                                              ⎥\n",
       "⎢-√7          √35           -√7           √91  ⎥\n",
       "⎢────    0    ────     0    ────    0    ───── ⎥\n",
       "⎢840          2520          3080         72072 ⎥\n",
       "⎢                                              ⎥\n",
       "⎢      -√3            √7          -√11         ⎥\n",
       "⎢ 0    ────     0    ────    0    ─────    0   ⎥\n",
       "⎢      2520          3080          8008        ⎥\n",
       "⎢                                              ⎥\n",
       "⎢             -√55          √11          -√143 ⎥\n",
       "⎢ 0      0    ─────    0    ────    0    ──────⎥\n",
       "⎢             27720         8008         51480 ⎥\n",
       "⎢                                              ⎥\n",
       "⎢                    -√91          √143        ⎥\n",
       "⎢ 0      0      0    ─────   0    ─────    0   ⎥\n",
       "⎣                    72072        51480        ⎦"
      ]
     },
     "execution_count": 74,
     "metadata": {},
     "output_type": "execute_result"
    }
   ],
   "source": [
    "V3 = Matrix([[inner(V(pm,3), pn) for pn in P] for pm in P])\n",
    "V3"
   ]
  },
  {
   "cell_type": "code",
   "execution_count": 88,
   "metadata": {},
   "outputs": [
    {
     "data": {
      "text/latex": [
       "$$\\left[\\begin{matrix}\\frac{1}{2} & - \\frac{\\sqrt{3}}{6} & 0 & 0 & 0 & 0 & 0\\\\\\frac{1}{2} & \\frac{\\sqrt{3}}{6} & 0 & 0 & 0 & 0 & 0\\\\\\frac{1}{6} & 0 & - \\frac{\\sqrt{5}}{30} & 0 & 0 & 0 & 0\\end{matrix}\\right]$$"
      ],
      "text/plain": [
       "⎡     -√3                   ⎤\n",
       "⎢1/2  ────   0    0  0  0  0⎥\n",
       "⎢      6                    ⎥\n",
       "⎢                           ⎥\n",
       "⎢      √3                   ⎥\n",
       "⎢1/2   ──    0    0  0  0  0⎥\n",
       "⎢      6                    ⎥\n",
       "⎢                           ⎥\n",
       "⎢           -√5             ⎥\n",
       "⎢1/6   0    ────  0  0  0  0⎥\n",
       "⎣            30             ⎦"
      ]
     },
     "execution_count": 88,
     "metadata": {},
     "output_type": "execute_result"
    }
   ],
   "source": [
    "Phi = [1-t, t, t*(1-t)] \n",
    "Matrix([[inner(phi, pn) for pn in P] for phi in Phi])"
   ]
  },
  {
   "cell_type": "code",
   "execution_count": null,
   "metadata": {},
   "outputs": [],
   "source": []
  }
 ],
 "metadata": {
  "kernelspec": {
   "display_name": "Python 3",
   "language": "python",
   "name": "python3"
  },
  "language_info": {
   "codemirror_mode": {
    "name": "ipython",
    "version": 3
   },
   "file_extension": ".py",
   "mimetype": "text/x-python",
   "name": "python",
   "nbconvert_exporter": "python",
   "pygments_lexer": "ipython3",
   "version": "3.6.5"
  }
 },
 "nbformat": 4,
 "nbformat_minor": 2
}
